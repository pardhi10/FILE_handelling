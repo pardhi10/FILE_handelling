{
 "cells": [
  {
   "cell_type": "code",
   "execution_count": 17,
   "id": "aaf49cc8-6a51-4bc4-85a4-9c820e5e2e91",
   "metadata": {},
   "outputs": [
    {
     "data": {
      "text/plain": [
       "'p@gmail.com'"
      ]
     },
     "execution_count": 17,
     "metadata": {},
     "output_type": "execute_result"
    }
   ],
   "source": [
    "#Q1. Explain Class and Object with respect to Object-Oriented Programming. Give a suitable example.\n",
    "\n",
    "class pranav:\n",
    "  def __init__(ss,email_id,ph_no,id_no):\n",
    "        ss.email=email_id \n",
    "        ss.ph=ph_no\n",
    "        ss.id=id_no   \n",
    "    \n",
    "out=pranav(\"p@gmail.com\",900999345,101)\n",
    "out.email\n",
    "\n",
    "    "
   ]
  },
  {
   "cell_type": "code",
   "execution_count": null,
   "id": "dbc16ff9-976b-4f26-b8a8-f9fa9abdf4c9",
   "metadata": {},
   "outputs": [],
   "source": [
    "#Name the four pillars of OOPs.\n",
    "oops stansd for \"object orianted programming\"\n",
    "the oops concepd is basically working on 4 pillers.\n",
    " 1. Abstraction.:- This is hiding the unwanted code which are not required or nacessory for user.  \n",
    " 2. Encription. :- This provide the securiety and give safety to whole class.\n",
    " 3. polymorphism:- The different behaviour of the same things just like function arguments are different . \n",
    " 4. inheritance :- this shows the relation and connectivity of the modules.  "
   ]
  },
  {
   "cell_type": "code",
   "execution_count": 3,
   "id": "b7f598cc-1b0a-4a95-b5c7-054c53e96565",
   "metadata": {},
   "outputs": [],
   "source": [
    "#      Explain why the __init__() function is used. Give a suitable example.\n",
    "#      __init__ this keyword is use when we need to pass the data values also it takes the values as argument  \n",
    "#      and make ready to class that arguments are going to pass."
   ]
  },
  {
   "cell_type": "code",
   "execution_count": 4,
   "id": "c8794aad-9ed2-4e46-9cd4-9556195264cf",
   "metadata": {},
   "outputs": [
    {
     "name": "stdout",
     "output_type": "stream",
     "text": [
      "Object `OOPs` not found.\n"
     ]
    }
   ],
   "source": [
    "#Q4. Why self is used in OOPs?\n",
    "  basically self is not mendatory but to pointing the classes first argument of function must be a pointing varriable"
   ]
  },
  {
   "cell_type": "code",
   "execution_count": null,
   "id": "c17b5052-f44a-4fb5-a7ae-0da5fa455459",
   "metadata": {},
   "outputs": [],
   "source": [
    "#What is inheritance? Give an example for each type of inheritance.\n",
    "#   Ans:  Inheritance allows us to define a class that inherits all the methods and properties from another class.\n"
   ]
  }
 ],
 "metadata": {
  "kernelspec": {
   "display_name": "Python 3 (ipykernel)",
   "language": "python",
   "name": "python3"
  },
  "language_info": {
   "codemirror_mode": {
    "name": "ipython",
    "version": 3
   },
   "file_extension": ".py",
   "mimetype": "text/x-python",
   "name": "python",
   "nbconvert_exporter": "python",
   "pygments_lexer": "ipython3",
   "version": "3.10.8"
  }
 },
 "nbformat": 4,
 "nbformat_minor": 5
}
