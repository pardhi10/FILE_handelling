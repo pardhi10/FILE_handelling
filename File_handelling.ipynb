{
 "cells": [
  {
   "cell_type": "code",
   "execution_count": 16,
   "id": "562a7858-98ae-470a-82ff-38899175cb0a",
   "metadata": {},
   "outputs": [
    {
     "name": "stderr",
     "output_type": "stream",
     "text": [
      "INFO:root:log this line of exicution\n"
     ]
    },
    {
     "name": "stdout",
     "output_type": "stream",
     "text": [
      "hello my name is pranav\n",
      "llo my name is pranav\n",
      "['name', 'pranav']\n",
      "['phno', '9009111234']\n",
      "['prapti', 2334, '2333']\n",
      "b'this is first linethis is my 2nd line'\n"
     ]
    }
   ],
   "source": [
    "f=open(\"pranav_file\",\"w\")          # \"w\" mode write the data and trancating the data means if we again write it will flush out the older data\n",
    "f.write(\"hello my name is pranav\") \n",
    "f.close()\n",
    "f=open(\"pranav_fil\",\"a\")          #\"a\" method is append the data in older one\n",
    "f.write(\"pranav pranav pranav pranav pranav you are the best\")\n",
    "f.close()\n",
    "f=open(\"pranav_file\",\"r\")          # \"r\"reed method \n",
    "f.read()\n",
    "f.seek(0)                #this take courser point to 0th position 1 time read it come to last line.\n",
    "for i in f  :            #we can use it in loop also\n",
    " print(i)\n",
    "import os              #this built in function give some methods\n",
    "os.remove(\"pranav_fil\")\n",
    "os.path.getsize(\"pranav_file\")\n",
    "os.rename(\"pranav_file\",\"pranav\")\n",
    "import shutil               #rthis give the copy ability the file can be copy by .copy method\n",
    "shutil.copy(\"pranav\",\"pran\")\n",
    "with open(\"pran\",\"r\")as fo:     #we can create file by this technique also\n",
    " fo.seek(2)   \n",
    " print(fo.read())\n",
    "    \n",
    "pp=\"my name is pranav pardhi it is the main line of code this my first file with json library\"\n",
    "import json     # bacically this will take data from outer varriable.\n",
    "j=open(\"pp.json\",\"w\")# these json library is differently work  we write the file name .json because while file create in ram it is in json formet.\n",
    "pp=json.dump(pp,j)     #if wants to take data from external varriable pp.json file created\n",
    "with open(\"pp.json\",\"r\") as l:\n",
    " data=json.load(l)\n",
    "data\n",
    "\n",
    "import csv          #csv files are data store in table form\n",
    "p_data=[[\"name\",\"pranav\"],[\"phno\",\"9009111234\"],[\"prapti\",2334,\"2333\"]]\n",
    "with open(\"p_data.csv\",\"w\") as p:\n",
    " writ=csv.writer(p)     # writer and writerow is function method which use to create csv files \n",
    " for i in p_data :\n",
    "    writ.writerow(i)\n",
    "with open(\"p_data.csv\",\"r\") as p:\n",
    " writ=csv.writer(p)\n",
    " for i in p_data :\n",
    "        print(i)\n",
    "        \n",
    "import io                     #io module just for creating file as buffer \n",
    "with open(\"rraja.txt\",\"wb\") as i:\n",
    "    p=io.BufferedWriter(i)\n",
    "    p.write(b\"this is first line\")\n",
    "    p.write(b\"this is my 2nd line\") \n",
    "    p.flush()\n",
    "with open(\"rraja.txt\",\"rb\") as i: \n",
    "    p=io.BufferedReader(i)\n",
    "    data=p.read()\n",
    "    print(data) \n",
    "    \n",
    "    \n",
    "#logging module basically teg or give bulet point name means just give tag.\n",
    "import logging \n",
    "                                                               # this is the fundamental approach to create logging files.\n",
    "                                                               # There are 6 levels:  --NOTET DEBUG INFO WARNING ERROR CRITICAL---\n",
    "logging.basicConfig(Filename=\"test.log\",level=logging.INFO)   #Here when we use INFO then we cant use NOTE DEBUG levels because above levels are \n",
    "logging.info(\"log this line of exicution\")   #   in sequence if we use 1st one then we can use all level after it if we use 3rd one we \n",
    " #above data is in file    study further from google                                     #   we can not use 2nd and 1st but after 3rd we can use 4 and 5 level        \n",
    "    \n",
    "  \n",
    "\n",
    "    "
   ]
  },
  {
   "cell_type": "code",
   "execution_count": null,
   "id": "4b623048-c1f9-4fa3-8bf3-b1eba861d72d",
   "metadata": {},
   "outputs": [],
   "source": []
  },
  {
   "cell_type": "code",
   "execution_count": null,
   "id": "6eefd17e-1cfa-4cb7-8d3f-ebcf410adcdc",
   "metadata": {},
   "outputs": [],
   "source": []
  }
 ],
 "metadata": {
  "kernelspec": {
   "display_name": "Python 3 (ipykernel)",
   "language": "python",
   "name": "python3"
  },
  "language_info": {
   "codemirror_mode": {
    "name": "ipython",
    "version": 3
   },
   "file_extension": ".py",
   "mimetype": "text/x-python",
   "name": "python",
   "nbconvert_exporter": "python",
   "pygments_lexer": "ipython3",
   "version": "3.10.8"
  }
 },
 "nbformat": 4,
 "nbformat_minor": 5
}
